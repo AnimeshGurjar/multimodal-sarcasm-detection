{
 "cells": [
  {
   "cell_type": "code",
   "execution_count": 1,
   "metadata": {},
   "outputs": [],
   "source": [
    "import pandas as pd"
   ]
  },
  {
   "cell_type": "code",
   "execution_count": 4,
   "metadata": {},
   "outputs": [],
   "source": [
    "# Load SemEval train and test datasets\n",
    "semeval_train = pd.read_csv(\"/s/babbage/b/nobackup/nblancha/public-datasets/ani/MUStARD/MUStARD/SEMeval/iSarcasmEval/train/train.En.csv\")  # Update with correct file path\n",
    "semeval_test = pd.read_csv(\"/s/babbage/b/nobackup/nblancha/public-datasets/ani/MUStARD/MUStARD/SEMeval/iSarcasmEval/test/task_A_En_test.csv\")    # Update with correct file path"
   ]
  },
  {
   "cell_type": "code",
   "execution_count": 7,
   "metadata": {},
   "outputs": [
    {
     "data": {
      "text/html": [
       "<div>\n",
       "<style scoped>\n",
       "    .dataframe tbody tr th:only-of-type {\n",
       "        vertical-align: middle;\n",
       "    }\n",
       "\n",
       "    .dataframe tbody tr th {\n",
       "        vertical-align: top;\n",
       "    }\n",
       "\n",
       "    .dataframe thead th {\n",
       "        text-align: right;\n",
       "    }\n",
       "</style>\n",
       "<table border=\"1\" class=\"dataframe\">\n",
       "  <thead>\n",
       "    <tr style=\"text-align: right;\">\n",
       "      <th></th>\n",
       "      <th>text</th>\n",
       "      <th>sarcastic</th>\n",
       "    </tr>\n",
       "  </thead>\n",
       "  <tbody>\n",
       "    <tr>\n",
       "      <th>0</th>\n",
       "      <td>Size on the the Toulouse team, That pack is mo...</td>\n",
       "      <td>0</td>\n",
       "    </tr>\n",
       "    <tr>\n",
       "      <th>1</th>\n",
       "      <td>Pinball!</td>\n",
       "      <td>0</td>\n",
       "    </tr>\n",
       "    <tr>\n",
       "      <th>2</th>\n",
       "      <td>So the Scottish Government want people to get ...</td>\n",
       "      <td>1</td>\n",
       "    </tr>\n",
       "    <tr>\n",
       "      <th>3</th>\n",
       "      <td>villainous pro tip : change the device name on...</td>\n",
       "      <td>0</td>\n",
       "    </tr>\n",
       "    <tr>\n",
       "      <th>4</th>\n",
       "      <td>I would date any of these men 🥺</td>\n",
       "      <td>0</td>\n",
       "    </tr>\n",
       "    <tr>\n",
       "      <th>...</th>\n",
       "      <td>...</td>\n",
       "      <td>...</td>\n",
       "    </tr>\n",
       "    <tr>\n",
       "      <th>1395</th>\n",
       "      <td>I’ve just seen this and felt it deserved a Ret...</td>\n",
       "      <td>0</td>\n",
       "    </tr>\n",
       "    <tr>\n",
       "      <th>1396</th>\n",
       "      <td>Omg how an earth is that a pen !!! 🤡</td>\n",
       "      <td>0</td>\n",
       "    </tr>\n",
       "    <tr>\n",
       "      <th>1397</th>\n",
       "      <td>Bringing Kanye and drake to a tl near you</td>\n",
       "      <td>0</td>\n",
       "    </tr>\n",
       "    <tr>\n",
       "      <th>1398</th>\n",
       "      <td>I love it when women are referred to as \"girl ...</td>\n",
       "      <td>1</td>\n",
       "    </tr>\n",
       "    <tr>\n",
       "      <th>1399</th>\n",
       "      <td>The fact that people still don't get that you ...</td>\n",
       "      <td>1</td>\n",
       "    </tr>\n",
       "  </tbody>\n",
       "</table>\n",
       "<p>1400 rows × 2 columns</p>\n",
       "</div>"
      ],
      "text/plain": [
       "                                                   text  sarcastic\n",
       "0     Size on the the Toulouse team, That pack is mo...          0\n",
       "1                                              Pinball!          0\n",
       "2     So the Scottish Government want people to get ...          1\n",
       "3     villainous pro tip : change the device name on...          0\n",
       "4                       I would date any of these men 🥺          0\n",
       "...                                                 ...        ...\n",
       "1395  I’ve just seen this and felt it deserved a Ret...          0\n",
       "1396               Omg how an earth is that a pen !!! 🤡          0\n",
       "1397          Bringing Kanye and drake to a tl near you          0\n",
       "1398  I love it when women are referred to as \"girl ...          1\n",
       "1399  The fact that people still don't get that you ...          1\n",
       "\n",
       "[1400 rows x 2 columns]"
      ]
     },
     "execution_count": 7,
     "metadata": {},
     "output_type": "execute_result"
    }
   ],
   "source": [
    "semeval_test"
   ]
  },
  {
   "cell_type": "code",
   "execution_count": 8,
   "metadata": {},
   "outputs": [],
   "source": [
    "# Extract relevant columns\n",
    "semeval_train = semeval_train[[\"tweet\", \"sarcastic\"]]\n",
    "semeval_test = semeval_test[[\"text\", \"sarcastic\"]]"
   ]
  },
  {
   "cell_type": "code",
   "execution_count": 9,
   "metadata": {},
   "outputs": [],
   "source": [
    "# Rename columns for consistency with MUStARD\n",
    "semeval_train.columns = [\"utterance\", \"label\"]\n",
    "semeval_test.columns = [\"utterance\", \"label\"]"
   ]
  },
  {
   "cell_type": "code",
   "execution_count": 10,
   "metadata": {},
   "outputs": [
    {
     "name": "stderr",
     "output_type": "stream",
     "text": [
      "/tmp/ipykernel_679787/4092932509.py:2: SettingWithCopyWarning: \n",
      "A value is trying to be set on a copy of a slice from a DataFrame.\n",
      "Try using .loc[row_indexer,col_indexer] = value instead\n",
      "\n",
      "See the caveats in the documentation: https://pandas.pydata.org/pandas-docs/stable/user_guide/indexing.html#returning-a-view-versus-a-copy\n",
      "  semeval_train[\"label\"] = semeval_train[\"label\"].astype(int)\n"
     ]
    }
   ],
   "source": [
    "# Convert labels to 0 (Not Sarcastic) and 1 (Sarcastic)\n",
    "semeval_train[\"label\"] = semeval_train[\"label\"].astype(int)\n",
    "semeval_test[\"label\"] = semeval_test[\"label\"].astype(int)"
   ]
  },
  {
   "cell_type": "code",
   "execution_count": 11,
   "metadata": {},
   "outputs": [],
   "source": [
    "# Save preprocessed SemEval dataset\n",
    "semeval_train.to_csv(\"SemEval_train_processed.csv\", index=False)\n",
    "semeval_test.to_csv(\"SemEval_test_processed.csv\", index=False)"
   ]
  },
  {
   "cell_type": "code",
   "execution_count": 12,
   "metadata": {},
   "outputs": [
    {
     "name": "stdout",
     "output_type": "stream",
     "text": [
      "✅ SemEval Preprocessing Done: 3468 Train, 1400 Test Samples\n",
      "✅ Preprocessed data saved as 'SemEval_train_processed.csv' and 'SemEval_test_processed.csv'\n"
     ]
    }
   ],
   "source": [
    "print(f\"✅ SemEval Preprocessing Done: {len(semeval_train)} Train, {len(semeval_test)} Test Samples\")\n",
    "print(\"✅ Preprocessed data saved as 'SemEval_train_processed.csv' and 'SemEval_test_processed.csv'\")"
   ]
  },
  {
   "cell_type": "code",
   "execution_count": 15,
   "metadata": {},
   "outputs": [
    {
     "name": "stdout",
     "output_type": "stream",
     "text": [
      "✅ SemEval Tokenization Complete: 3468 Train, 1400 Test Samples\n",
      "✅ Tokenized data saved as 'SemEval_train.pt' and 'SemEval_test.pt'.\n"
     ]
    }
   ],
   "source": [
    "import pandas as pd\n",
    "import torch\n",
    "from transformers import BertTokenizer\n",
    "\n",
    "# Load preprocessed SemEval datasets\n",
    "semeval_train = pd.read_csv(\"SemEval_train_processed.csv\")\n",
    "semeval_test = pd.read_csv(\"SemEval_test_processed.csv\")\n",
    "\n",
    "# Ensure 'utterance' column has no NaN values and is in string format\n",
    "semeval_train[\"utterance\"] = semeval_train[\"utterance\"].fillna(\"\").astype(str)\n",
    "semeval_test[\"utterance\"] = semeval_test[\"utterance\"].fillna(\"\").astype(str)\n",
    "\n",
    "# Load BERT tokenizer\n",
    "tokenizer = BertTokenizer.from_pretrained(\"bert-base-uncased\")\n",
    "\n",
    "# Tokenize training and test data\n",
    "semeval_train_encodings = tokenizer(\n",
    "    semeval_train[\"utterance\"].tolist(), truncation=True, padding=True, max_length=128, return_tensors=\"pt\"\n",
    ")\n",
    "semeval_test_encodings = tokenizer(\n",
    "    semeval_test[\"utterance\"].tolist(), truncation=True, padding=True, max_length=128, return_tensors=\"pt\"\n",
    ")\n",
    "\n",
    "# Convert labels to tensor format\n",
    "semeval_train_labels = torch.tensor(semeval_train[\"label\"].tolist())\n",
    "semeval_test_labels = torch.tensor(semeval_test[\"label\"].tolist())\n",
    "\n",
    "# Save tokenized data\n",
    "torch.save({\"input_ids\": semeval_train_encodings[\"input_ids\"], \"attention_mask\": semeval_train_encodings[\"attention_mask\"], \"labels\": semeval_train_labels}, \"SemEval_train.pt\")\n",
    "torch.save({\"input_ids\": semeval_test_encodings[\"input_ids\"], \"attention_mask\": semeval_test_encodings[\"attention_mask\"], \"labels\": semeval_test_labels}, \"SemEval_test.pt\")\n",
    "\n",
    "print(f\"✅ SemEval Tokenization Complete: {len(semeval_train_labels)} Train, {len(semeval_test_labels)} Test Samples\")\n",
    "print(\"✅ Tokenized data saved as 'SemEval_train.pt' and 'SemEval_test.pt'.\")\n"
   ]
  },
  {
   "cell_type": "code",
   "execution_count": 16,
   "metadata": {},
   "outputs": [
    {
     "name": "stderr",
     "output_type": "stream",
     "text": [
      "/s/babbage/b/nobackup/nblancha/merry/conda/envs/ani/lib/python3.8/site-packages/scipy/__init__.py:146: UserWarning: A NumPy version >=1.16.5 and <1.23.0 is required for this version of SciPy (detected version 1.24.4\n",
      "  warnings.warn(f\"A NumPy version >={np_minversion} and <{np_maxversion}\"\n",
      "/s/babbage/b/nobackup/nblancha/merry/conda/envs/ani/lib/python3.8/site-packages/torchvision/io/image.py:11: UserWarning: Failed to load image Python extension: libtorch_cuda_cu.so: cannot open shared object file: No such file or directory\n",
      "  warn(f\"Failed to load image Python extension: {e}\")\n",
      "2025-02-08 16:28:03.539548: I tensorflow/tsl/cuda/cudart_stub.cc:28] Could not find cuda drivers on your machine, GPU will not be used.\n",
      "2025-02-08 16:28:03.580007: I tensorflow/core/platform/cpu_feature_guard.cc:182] This TensorFlow binary is optimized to use available CPU instructions in performance-critical operations.\n",
      "To enable the following instructions: AVX2 FMA, in other operations, rebuild TensorFlow with the appropriate compiler flags.\n",
      "2025-02-08 16:28:05.858035: W tensorflow/compiler/tf2tensorrt/utils/py_utils.cc:38] TF-TRT Warning: Could not find TensorRT\n",
      "/tmp/ipykernel_679787/986943656.py:7: FutureWarning: You are using `torch.load` with `weights_only=False` (the current default value), which uses the default pickle module implicitly. It is possible to construct malicious pickle data which will execute arbitrary code during unpickling (See https://github.com/pytorch/pytorch/blob/main/SECURITY.md#untrusted-models for more details). In a future release, the default value for `weights_only` will be flipped to `True`. This limits the functions that could be executed during unpickling. Arbitrary objects will no longer be allowed to be loaded via this mode unless they are explicitly allowlisted by the user via `torch.serialization.add_safe_globals`. We recommend you start setting `weights_only=True` for any use case where you don't have full control of the loaded file. Please open an issue on GitHub for any issues related to this experimental feature.\n",
      "  semeval_test_data = torch.load(\"SemEval_test.pt\")\n"
     ]
    },
    {
     "name": "stdout",
     "output_type": "stream",
     "text": [
      "✅ Evaluation on SemEval Complete!\n",
      "📊 Accuracy: 0.2914\n",
      "📊 F1-Score: 0.2298\n",
      "📊 Precision: 0.1360\n",
      "📊 Recall: 0.7400\n",
      "✅ Evaluation results saved to 'bert_semeval_results.npy'.\n"
     ]
    }
   ],
   "source": [
    "import numpy as np\n",
    "import torch\n",
    "from sklearn.metrics import accuracy_score, f1_score, precision_score, recall_score\n",
    "from transformers import BertForSequenceClassification\n",
    "\n",
    "# Load tokenized SemEval test data\n",
    "semeval_test_data = torch.load(\"SemEval_test.pt\")\n",
    "\n",
    "# Load trained BERT model (trained on MUStARD)\n",
    "model = BertForSequenceClassification.from_pretrained(\"./sarcasm_bert_model\")\n",
    "model.eval()  # Set model to evaluation mode\n",
    "\n",
    "# Move model to GPU if available\n",
    "device = torch.device(\"cuda\" if torch.cuda.is_available() else \"cpu\")\n",
    "model.to(device)\n",
    "\n",
    "# Prepare SemEval test data\n",
    "input_ids = semeval_test_data[\"input_ids\"].to(device)\n",
    "attention_mask = semeval_test_data[\"attention_mask\"].to(device)\n",
    "labels = semeval_test_data[\"labels\"].to(device)\n",
    "\n",
    "# Run inference\n",
    "with torch.no_grad():\n",
    "    outputs = model(input_ids, attention_mask=attention_mask)\n",
    "    logits = outputs.logits\n",
    "    predictions = torch.argmax(logits, dim=-1)\n",
    "\n",
    "# Convert predictions and labels to numpy arrays\n",
    "preds = predictions.cpu().numpy()\n",
    "true_labels = labels.cpu().numpy()\n",
    "\n",
    "# Compute Evaluation Metrics\n",
    "accuracy = accuracy_score(true_labels, preds)\n",
    "f1 = f1_score(true_labels, preds)\n",
    "precision = precision_score(true_labels, preds)\n",
    "recall = recall_score(true_labels, preds)\n",
    "\n",
    "# Print and Save Results\n",
    "print(f\"✅ Evaluation on SemEval Complete!\")\n",
    "print(f\"📊 Accuracy: {accuracy:.4f}\")\n",
    "print(f\"📊 F1-Score: {f1:.4f}\")\n",
    "print(f\"📊 Precision: {precision:.4f}\")\n",
    "print(f\"📊 Recall: {recall:.4f}\")\n",
    "\n",
    "# Save results to a file\n",
    "results = {\n",
    "    \"accuracy\": accuracy,\n",
    "    \"f1_score\": f1,\n",
    "    \"precision\": precision,\n",
    "    \"recall\": recall\n",
    "}\n",
    "np.save(\"bert_semeval_results.npy\", results)\n",
    "print(\"✅ Evaluation results saved to 'bert_semeval_results.npy'.\")\n"
   ]
  },
  {
   "cell_type": "code",
   "execution_count": null,
   "metadata": {},
   "outputs": [],
   "source": []
  }
 ],
 "metadata": {
  "kernelspec": {
   "display_name": "ani",
   "language": "python",
   "name": "python3"
  },
  "language_info": {
   "codemirror_mode": {
    "name": "ipython",
    "version": 3
   },
   "file_extension": ".py",
   "mimetype": "text/x-python",
   "name": "python",
   "nbconvert_exporter": "python",
   "pygments_lexer": "ipython3",
   "version": "3.8.12"
  }
 },
 "nbformat": 4,
 "nbformat_minor": 2
}
